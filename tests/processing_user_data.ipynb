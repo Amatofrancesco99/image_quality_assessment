{
 "cells": [
  {
   "cell_type": "markdown",
   "id": "b2364d86-0133-4af4-b487-fa9df97a8d58",
   "metadata": {},
   "source": [
    "# Testing how user data will be stored, processed and made ready for the javascript code running on the client to generate graphs with."
   ]
  },
  {
   "cell_type": "code",
   "execution_count": 1,
   "id": "a5275468-4660-484c-8a08-530ac4b1eb66",
   "metadata": {},
   "outputs": [],
   "source": [
    "import pandas as pd\n",
    "import json\n",
    "from random import randint\n",
    "from time import time\n"
   ]
  },
  {
   "cell_type": "markdown",
   "id": "e05033d0-3922-4984-8589-2abd19f77cf3",
   "metadata": {},
   "source": [
    "## Database is loaded in memory when the server starts up\n"
   ]
  },
  {
   "cell_type": "code",
   "execution_count": 2,
   "id": "40877eae-4ba9-4f3d-8561-476c67c7f56c",
   "metadata": {},
   "outputs": [],
   "source": [
    "database = pd.DataFrame()"
   ]
  },
  {
   "cell_type": "code",
   "execution_count": null,
   "id": "dab25b3a-c1f7-4069-82b2-a102cd84e9fc",
   "metadata": {},
   "outputs": [],
   "source": []
  },
  {
   "cell_type": "markdown",
   "id": "4d873df9-e19b-44ab-bb98-11c63d4caf54",
   "metadata": {},
   "source": [
    "## Generating some random test data"
   ]
  },
  {
   "cell_type": "code",
   "execution_count": 3,
   "id": "c59def36-ff84-41ee-a466-81596bab4c2f",
   "metadata": {},
   "outputs": [],
   "source": [
    "\n",
    "def get_random_raw():\n",
    "    \n",
    "    \"\"\"\n",
    "    This is similar to the format provided by the html-form object.\n",
    "    \"\"\"    \n",
    "    test_names = [f'0{i}' for i in range(10)]\n",
    "    orig_names = [f'{n}_0' for n in test_names]\n",
    "    impaired1_names = [f'{n}_1' for n in test_names]\n",
    "    impaired2_names = [f'{n}_2' for n in test_names]\n",
    "    names = orig_names + impaired1_names+ impaired2_names\n",
    "    raw_data = [(name, randint(1, 5)) for name in names]\n",
    "    # timestamp to identify user (since we're not gonna use emails)\n",
    "    raw_data.insert(0, (\"user\", int(time()*1000)))\n",
    "    return raw_data"
   ]
  },
  {
   "cell_type": "code",
   "execution_count": 4,
   "id": "7a43733d-93a5-42d7-9974-c42dc9153bc6",
   "metadata": {},
   "outputs": [
    {
     "data": {
      "text/plain": [
       "[('user', 1640620238093),\n",
       " ('00_0', 3),\n",
       " ('01_0', 1),\n",
       " ('02_0', 1),\n",
       " ('03_0', 4),\n",
       " ('04_0', 3),\n",
       " ('05_0', 3),\n",
       " ('06_0', 2),\n",
       " ('07_0', 2),\n",
       " ('08_0', 4),\n",
       " ('09_0', 1),\n",
       " ('00_1', 3),\n",
       " ('01_1', 5),\n",
       " ('02_1', 5),\n",
       " ('03_1', 2),\n",
       " ('04_1', 4),\n",
       " ('05_1', 1),\n",
       " ('06_1', 1),\n",
       " ('07_1', 4),\n",
       " ('08_1', 1),\n",
       " ('09_1', 5),\n",
       " ('00_2', 3),\n",
       " ('01_2', 3),\n",
       " ('02_2', 1),\n",
       " ('03_2', 1),\n",
       " ('04_2', 2),\n",
       " ('05_2', 2),\n",
       " ('06_2', 4),\n",
       " ('07_2', 4),\n",
       " ('08_2', 1),\n",
       " ('09_2', 3)]"
      ]
     },
     "execution_count": 4,
     "metadata": {},
     "output_type": "execute_result"
    }
   ],
   "source": [
    "get_random_raw()"
   ]
  },
  {
   "cell_type": "code",
   "execution_count": 5,
   "id": "a0ed4fd3-82ae-4e67-8107-1d4667640b25",
   "metadata": {},
   "outputs": [],
   "source": [
    "def raw_data_to_record(raw_data):\n",
    "    \"\"\"\n",
    "    Convert raw data from the form to a record (row). \n",
    "    \"\"\"\n",
    "    new_record = pd.DataFrame(raw_data).T\n",
    "    new_record = new_record.rename(columns=new_record.iloc[0])[1:]\n",
    "    return new_record"
   ]
  },
  {
   "cell_type": "markdown",
   "id": "98d6146a-5bb5-4b58-bfc2-c55e46b02558",
   "metadata": {},
   "source": [
    "# This function will be called at each time a new user submits their form:\n"
   ]
  },
  {
   "cell_type": "code",
   "execution_count": 6,
   "id": "1e10dbba-f9e9-49d2-a32c-af0ab726b436",
   "metadata": {},
   "outputs": [],
   "source": [
    "def append_to_database(raw_data):\n",
    "    \"\"\"\n",
    "    Append raw data from a new user to the database\n",
    "    \"\"\"\n",
    "    global database\n",
    "    new_record = raw_data_to_record(raw_data)\n",
    "    database = database.append(new_record).reset_index(drop=True)"
   ]
  },
  {
   "cell_type": "markdown",
   "id": "20e918ff-92b1-4bd7-92d5-a91714e0c54a",
   "metadata": {},
   "source": [
    "## Call it n times to append new random data from n 'users'"
   ]
  },
  {
   "cell_type": "code",
   "execution_count": 15,
   "id": "5ed23e22-15ef-431d-b019-82f025714035",
   "metadata": {},
   "outputs": [],
   "source": [
    "append_to_database(get_random_raw())"
   ]
  },
  {
   "cell_type": "code",
   "execution_count": 16,
   "id": "710b94d1-a7b7-4d65-b157-555abc03df4c",
   "metadata": {},
   "outputs": [
    {
     "data": {
      "text/html": [
       "<div>\n",
       "<style scoped>\n",
       "    .dataframe tbody tr th:only-of-type {\n",
       "        vertical-align: middle;\n",
       "    }\n",
       "\n",
       "    .dataframe tbody tr th {\n",
       "        vertical-align: top;\n",
       "    }\n",
       "\n",
       "    .dataframe thead th {\n",
       "        text-align: right;\n",
       "    }\n",
       "</style>\n",
       "<table border=\"1\" class=\"dataframe\">\n",
       "  <thead>\n",
       "    <tr style=\"text-align: right;\">\n",
       "      <th></th>\n",
       "      <th>user</th>\n",
       "      <th>00_0</th>\n",
       "      <th>01_0</th>\n",
       "      <th>02_0</th>\n",
       "      <th>03_0</th>\n",
       "      <th>04_0</th>\n",
       "      <th>05_0</th>\n",
       "      <th>06_0</th>\n",
       "      <th>07_0</th>\n",
       "      <th>08_0</th>\n",
       "      <th>...</th>\n",
       "      <th>00_2</th>\n",
       "      <th>01_2</th>\n",
       "      <th>02_2</th>\n",
       "      <th>03_2</th>\n",
       "      <th>04_2</th>\n",
       "      <th>05_2</th>\n",
       "      <th>06_2</th>\n",
       "      <th>07_2</th>\n",
       "      <th>08_2</th>\n",
       "      <th>09_2</th>\n",
       "    </tr>\n",
       "  </thead>\n",
       "  <tbody>\n",
       "    <tr>\n",
       "      <th>0</th>\n",
       "      <td>1640620249599</td>\n",
       "      <td>5</td>\n",
       "      <td>5</td>\n",
       "      <td>5</td>\n",
       "      <td>3</td>\n",
       "      <td>3</td>\n",
       "      <td>2</td>\n",
       "      <td>2</td>\n",
       "      <td>1</td>\n",
       "      <td>4</td>\n",
       "      <td>...</td>\n",
       "      <td>5</td>\n",
       "      <td>1</td>\n",
       "      <td>1</td>\n",
       "      <td>5</td>\n",
       "      <td>1</td>\n",
       "      <td>5</td>\n",
       "      <td>5</td>\n",
       "      <td>1</td>\n",
       "      <td>1</td>\n",
       "      <td>1</td>\n",
       "    </tr>\n",
       "    <tr>\n",
       "      <th>1</th>\n",
       "      <td>1640620250996</td>\n",
       "      <td>4</td>\n",
       "      <td>2</td>\n",
       "      <td>5</td>\n",
       "      <td>3</td>\n",
       "      <td>1</td>\n",
       "      <td>4</td>\n",
       "      <td>1</td>\n",
       "      <td>1</td>\n",
       "      <td>2</td>\n",
       "      <td>...</td>\n",
       "      <td>5</td>\n",
       "      <td>4</td>\n",
       "      <td>2</td>\n",
       "      <td>1</td>\n",
       "      <td>4</td>\n",
       "      <td>4</td>\n",
       "      <td>2</td>\n",
       "      <td>2</td>\n",
       "      <td>1</td>\n",
       "      <td>5</td>\n",
       "    </tr>\n",
       "    <tr>\n",
       "      <th>2</th>\n",
       "      <td>1640620251255</td>\n",
       "      <td>3</td>\n",
       "      <td>4</td>\n",
       "      <td>5</td>\n",
       "      <td>1</td>\n",
       "      <td>4</td>\n",
       "      <td>4</td>\n",
       "      <td>5</td>\n",
       "      <td>4</td>\n",
       "      <td>5</td>\n",
       "      <td>...</td>\n",
       "      <td>5</td>\n",
       "      <td>2</td>\n",
       "      <td>3</td>\n",
       "      <td>4</td>\n",
       "      <td>5</td>\n",
       "      <td>1</td>\n",
       "      <td>2</td>\n",
       "      <td>1</td>\n",
       "      <td>5</td>\n",
       "      <td>1</td>\n",
       "    </tr>\n",
       "    <tr>\n",
       "      <th>3</th>\n",
       "      <td>1640620251487</td>\n",
       "      <td>3</td>\n",
       "      <td>3</td>\n",
       "      <td>1</td>\n",
       "      <td>1</td>\n",
       "      <td>1</td>\n",
       "      <td>2</td>\n",
       "      <td>2</td>\n",
       "      <td>4</td>\n",
       "      <td>4</td>\n",
       "      <td>...</td>\n",
       "      <td>3</td>\n",
       "      <td>4</td>\n",
       "      <td>5</td>\n",
       "      <td>1</td>\n",
       "      <td>1</td>\n",
       "      <td>1</td>\n",
       "      <td>3</td>\n",
       "      <td>5</td>\n",
       "      <td>5</td>\n",
       "      <td>4</td>\n",
       "    </tr>\n",
       "    <tr>\n",
       "      <th>4</th>\n",
       "      <td>1640620251728</td>\n",
       "      <td>5</td>\n",
       "      <td>3</td>\n",
       "      <td>1</td>\n",
       "      <td>2</td>\n",
       "      <td>4</td>\n",
       "      <td>5</td>\n",
       "      <td>2</td>\n",
       "      <td>4</td>\n",
       "      <td>4</td>\n",
       "      <td>...</td>\n",
       "      <td>2</td>\n",
       "      <td>2</td>\n",
       "      <td>5</td>\n",
       "      <td>1</td>\n",
       "      <td>3</td>\n",
       "      <td>1</td>\n",
       "      <td>3</td>\n",
       "      <td>4</td>\n",
       "      <td>1</td>\n",
       "      <td>4</td>\n",
       "    </tr>\n",
       "    <tr>\n",
       "      <th>5</th>\n",
       "      <td>1640620251958</td>\n",
       "      <td>2</td>\n",
       "      <td>2</td>\n",
       "      <td>3</td>\n",
       "      <td>1</td>\n",
       "      <td>3</td>\n",
       "      <td>2</td>\n",
       "      <td>4</td>\n",
       "      <td>3</td>\n",
       "      <td>4</td>\n",
       "      <td>...</td>\n",
       "      <td>5</td>\n",
       "      <td>3</td>\n",
       "      <td>1</td>\n",
       "      <td>3</td>\n",
       "      <td>4</td>\n",
       "      <td>1</td>\n",
       "      <td>3</td>\n",
       "      <td>5</td>\n",
       "      <td>4</td>\n",
       "      <td>5</td>\n",
       "    </tr>\n",
       "    <tr>\n",
       "      <th>6</th>\n",
       "      <td>1640620252185</td>\n",
       "      <td>4</td>\n",
       "      <td>4</td>\n",
       "      <td>1</td>\n",
       "      <td>4</td>\n",
       "      <td>2</td>\n",
       "      <td>5</td>\n",
       "      <td>5</td>\n",
       "      <td>2</td>\n",
       "      <td>3</td>\n",
       "      <td>...</td>\n",
       "      <td>2</td>\n",
       "      <td>3</td>\n",
       "      <td>4</td>\n",
       "      <td>4</td>\n",
       "      <td>2</td>\n",
       "      <td>3</td>\n",
       "      <td>4</td>\n",
       "      <td>5</td>\n",
       "      <td>3</td>\n",
       "      <td>3</td>\n",
       "    </tr>\n",
       "    <tr>\n",
       "      <th>7</th>\n",
       "      <td>1640620252404</td>\n",
       "      <td>4</td>\n",
       "      <td>5</td>\n",
       "      <td>1</td>\n",
       "      <td>2</td>\n",
       "      <td>1</td>\n",
       "      <td>1</td>\n",
       "      <td>1</td>\n",
       "      <td>3</td>\n",
       "      <td>4</td>\n",
       "      <td>...</td>\n",
       "      <td>3</td>\n",
       "      <td>4</td>\n",
       "      <td>5</td>\n",
       "      <td>2</td>\n",
       "      <td>5</td>\n",
       "      <td>1</td>\n",
       "      <td>2</td>\n",
       "      <td>1</td>\n",
       "      <td>3</td>\n",
       "      <td>2</td>\n",
       "    </tr>\n",
       "    <tr>\n",
       "      <th>8</th>\n",
       "      <td>1640620252710</td>\n",
       "      <td>3</td>\n",
       "      <td>2</td>\n",
       "      <td>5</td>\n",
       "      <td>4</td>\n",
       "      <td>1</td>\n",
       "      <td>2</td>\n",
       "      <td>5</td>\n",
       "      <td>3</td>\n",
       "      <td>3</td>\n",
       "      <td>...</td>\n",
       "      <td>2</td>\n",
       "      <td>2</td>\n",
       "      <td>4</td>\n",
       "      <td>5</td>\n",
       "      <td>3</td>\n",
       "      <td>5</td>\n",
       "      <td>3</td>\n",
       "      <td>3</td>\n",
       "      <td>2</td>\n",
       "      <td>2</td>\n",
       "    </tr>\n",
       "  </tbody>\n",
       "</table>\n",
       "<p>9 rows × 31 columns</p>\n",
       "</div>"
      ],
      "text/plain": [
       "            user 00_0 01_0 02_0 03_0 04_0 05_0 06_0 07_0 08_0  ... 00_2 01_2  \\\n",
       "0  1640620249599    5    5    5    3    3    2    2    1    4  ...    5    1   \n",
       "1  1640620250996    4    2    5    3    1    4    1    1    2  ...    5    4   \n",
       "2  1640620251255    3    4    5    1    4    4    5    4    5  ...    5    2   \n",
       "3  1640620251487    3    3    1    1    1    2    2    4    4  ...    3    4   \n",
       "4  1640620251728    5    3    1    2    4    5    2    4    4  ...    2    2   \n",
       "5  1640620251958    2    2    3    1    3    2    4    3    4  ...    5    3   \n",
       "6  1640620252185    4    4    1    4    2    5    5    2    3  ...    2    3   \n",
       "7  1640620252404    4    5    1    2    1    1    1    3    4  ...    3    4   \n",
       "8  1640620252710    3    2    5    4    1    2    5    3    3  ...    2    2   \n",
       "\n",
       "  02_2 03_2 04_2 05_2 06_2 07_2 08_2 09_2  \n",
       "0    1    5    1    5    5    1    1    1  \n",
       "1    2    1    4    4    2    2    1    5  \n",
       "2    3    4    5    1    2    1    5    1  \n",
       "3    5    1    1    1    3    5    5    4  \n",
       "4    5    1    3    1    3    4    1    4  \n",
       "5    1    3    4    1    3    5    4    5  \n",
       "6    4    4    2    3    4    5    3    3  \n",
       "7    5    2    5    1    2    1    3    2  \n",
       "8    4    5    3    5    3    3    2    2  \n",
       "\n",
       "[9 rows x 31 columns]"
      ]
     },
     "execution_count": 16,
     "metadata": {},
     "output_type": "execute_result"
    }
   ],
   "source": [
    "database"
   ]
  },
  {
   "cell_type": "code",
   "execution_count": null,
   "id": "eb53b1e7-2031-4e93-a38e-38f8157decec",
   "metadata": {},
   "outputs": [],
   "source": []
  },
  {
   "cell_type": "code",
   "execution_count": 372,
   "id": "c3901564-9867-44fa-9825-bb1d3b941a0a",
   "metadata": {},
   "outputs": [],
   "source": [
    "#database"
   ]
  },
  {
   "cell_type": "code",
   "execution_count": null,
   "id": "e35dc1d2-6753-4452-a7fd-7ab97b274836",
   "metadata": {},
   "outputs": [],
   "source": []
  },
  {
   "cell_type": "markdown",
   "id": "5d5f041d-b717-4097-8421-50237e6b8851",
   "metadata": {},
   "source": [
    "## Calculating mos and mos-stddev values"
   ]
  },
  {
   "cell_type": "code",
   "execution_count": 17,
   "id": "a80819b2-426e-496b-a657-192289310fbf",
   "metadata": {},
   "outputs": [],
   "source": [
    "class ImageTypes:\n",
    "    ORIGINAL = \"_0\"\n",
    "    IMPAIRED1 = \"_1\"\n",
    "    IMPAIRED2 = \"_2\""
   ]
  },
  {
   "cell_type": "code",
   "execution_count": 18,
   "id": "078d7681-0459-47a8-8857-393bd747e768",
   "metadata": {},
   "outputs": [],
   "source": [
    "def get_names():\n",
    "    return [col[:2] for col in database.columns if ImageTypes.ORIGINAL in col ]"
   ]
  },
  {
   "cell_type": "code",
   "execution_count": 19,
   "id": "7549c593-67f9-4a35-bfd3-dd5103d42ee5",
   "metadata": {},
   "outputs": [],
   "source": [
    "def get_mos(img_type):\n",
    "    cols = [col for col in database.columns if img_type in col ]\n",
    "    return database[cols].mean(axis=0).to_list()"
   ]
  },
  {
   "cell_type": "code",
   "execution_count": 20,
   "id": "8787dcb4-4cee-438c-88c6-c8d7b8972811",
   "metadata": {},
   "outputs": [],
   "source": [
    "def get_mos_stdev(img_type):\n",
    "    cols = [col for col in database.columns if img_type in col ]\n",
    "    return database[cols].std(axis=0).to_list()"
   ]
  },
  {
   "cell_type": "markdown",
   "id": "73126b2d-0c1a-44cd-b6ec-6a0450624fcd",
   "metadata": {},
   "source": [
    "### Eg: mos of original images:"
   ]
  },
  {
   "cell_type": "code",
   "execution_count": 21,
   "id": "4fd98077-984b-4cb1-acee-cbd3e6e5473d",
   "metadata": {},
   "outputs": [
    {
     "data": {
      "text/plain": [
       "[3.6666666666666665,\n",
       " 3.3333333333333335,\n",
       " 3.0,\n",
       " 2.3333333333333335,\n",
       " 2.2222222222222223,\n",
       " 3.0,\n",
       " 3.0,\n",
       " 2.7777777777777777,\n",
       " 3.6666666666666665,\n",
       " 3.2222222222222223]"
      ]
     },
     "execution_count": 21,
     "metadata": {},
     "output_type": "execute_result"
    }
   ],
   "source": [
    "get_mos(ImageTypes.ORIGINAL)"
   ]
  },
  {
   "cell_type": "markdown",
   "id": "0462a0c3-7f71-49e7-94f9-a08e63188f1c",
   "metadata": {},
   "source": [
    "### Eg: stdev of mos of impaired2 images"
   ]
  },
  {
   "cell_type": "code",
   "execution_count": 22,
   "id": "5b9ba091-d1c5-446d-907c-85c6c1f99a6f",
   "metadata": {},
   "outputs": [
    {
     "data": {
      "text/plain": [
       "[1.4240006242195884,\n",
       " 1.092906420717,\n",
       " 1.6583123951777,\n",
       " 1.69148192751537,\n",
       " 1.536590742882148,\n",
       " 1.8104634152000358,\n",
       " 1.0,\n",
       " 1.8027756377319946,\n",
       " 1.6414763002993509,\n",
       " 1.5811388300841898]"
      ]
     },
     "execution_count": 22,
     "metadata": {},
     "output_type": "execute_result"
    }
   ],
   "source": [
    "get_mos_stdev(ImageTypes.IMPAIRED2)"
   ]
  },
  {
   "cell_type": "code",
   "execution_count": null,
   "id": "226a8e28-3248-4b86-8352-1d180d411ec8",
   "metadata": {},
   "outputs": [],
   "source": []
  },
  {
   "cell_type": "markdown",
   "id": "0fcd690b-c629-4d7e-973e-0096c2faab99",
   "metadata": {},
   "source": [
    "# Api call functions:"
   ]
  },
  {
   "cell_type": "code",
   "execution_count": 23,
   "id": "67b2c5a1-9dc0-4d29-9f06-7a71e1101f31",
   "metadata": {},
   "outputs": [],
   "source": [
    "def get_mos_json():\n",
    "    result = {}\n",
    "    result[\"names\"] = get_names()\n",
    "    result[\"original-image-mos\"] = get_mos(ImageTypes.ORIGINAL)\n",
    "    result[\"slightly-impaired-image-mos\"] = get_mos(ImageTypes.IMPAIRED1)\n",
    "    result[\"heavily-impaired-image-mos\"] = get_mos(ImageTypes.IMPAIRED2)\n",
    "    return json.dumps(result)\n",
    "    "
   ]
  },
  {
   "cell_type": "code",
   "execution_count": 24,
   "id": "709e7265-b651-4343-bd33-ba9e11e3b705",
   "metadata": {},
   "outputs": [],
   "source": [
    "def get_mos_stddev_json():\n",
    "    result = {}\n",
    "    result[\"names\"] = get_names()\n",
    "    result[\"original-image-mos\"] = get_mos_stdev(ImageTypes.ORIGINAL)\n",
    "    result[\"slightly-impaired-image-mos\"] = get_mos_stdev(ImageTypes.IMPAIRED1)\n",
    "    result[\"heavily-impaired-image-mos\"] = get_mos_stdev(ImageTypes.IMPAIRED2)\n",
    "    return json.dumps(result)\n",
    "    "
   ]
  },
  {
   "cell_type": "code",
   "execution_count": null,
   "id": "d0655844-5b0f-4d24-9ae6-9390e4f3d977",
   "metadata": {},
   "outputs": [],
   "source": []
  },
  {
   "cell_type": "code",
   "execution_count": 25,
   "id": "0a6b2645-1434-4eab-bea9-7c49687bf529",
   "metadata": {},
   "outputs": [
    {
     "data": {
      "text/plain": [
       "'{\"names\": [\"00\", \"01\", \"02\", \"03\", \"04\", \"05\", \"06\", \"07\", \"08\", \"09\"], \"original-image-mos\": [3.6666666666666665, 3.3333333333333335, 3.0, 2.3333333333333335, 2.2222222222222223, 3.0, 3.0, 2.7777777777777777, 3.6666666666666665, 3.2222222222222223], \"slightly-impaired-image-mos\": [2.888888888888889, 3.888888888888889, 2.888888888888889, 2.4444444444444446, 3.5555555555555554, 2.6666666666666665, 2.6666666666666665, 2.4444444444444446, 3.3333333333333335, 2.3333333333333335], \"heavily-impaired-image-mos\": [3.5555555555555554, 2.7777777777777777, 3.3333333333333335, 2.888888888888889, 3.111111111111111, 2.4444444444444446, 3.0, 3.0, 2.7777777777777777, 3.0]}'"
      ]
     },
     "execution_count": 25,
     "metadata": {},
     "output_type": "execute_result"
    }
   ],
   "source": [
    "get_mos_json()"
   ]
  },
  {
   "cell_type": "code",
   "execution_count": 26,
   "id": "d426cb6e-7f9c-4232-b290-21d417b6a24b",
   "metadata": {},
   "outputs": [
    {
     "data": {
      "text/plain": [
       "'{\"names\": [\"00\", \"01\", \"02\", \"03\", \"04\", \"05\", \"06\", \"07\", \"08\", \"09\"], \"original-image-mos\": [1.0, 1.224744871391589, 2.0, 1.224744871391589, 1.3017082793177759, 1.5, 1.7320508075688772, 1.2018504251546631, 0.8660254037844386, 1.7873008824606014], \"slightly-impaired-image-mos\": [1.6158932858054431, 1.4529663145135578, 1.7638342073763937, 1.6666666666666667, 1.5898986690282426, 1.5811388300841898, 1.3228756555322954, 1.2360330811826103, 1.6583123951777001, 1.118033988749895], \"heavily-impaired-image-mos\": [1.4240006242195884, 1.092906420717, 1.6583123951777, 1.69148192751537, 1.536590742882148, 1.8104634152000358, 1.0, 1.8027756377319946, 1.6414763002993509, 1.5811388300841898]}'"
      ]
     },
     "execution_count": 26,
     "metadata": {},
     "output_type": "execute_result"
    }
   ],
   "source": [
    "get_mos_stddev_json()"
   ]
  },
  {
   "cell_type": "code",
   "execution_count": null,
   "id": "8e16d300-369b-44f6-90e1-b830a6df4c06",
   "metadata": {},
   "outputs": [],
   "source": []
  }
 ],
 "metadata": {
  "kernelspec": {
   "display_name": "Python 3 (ipykernel)",
   "language": "python",
   "name": "python3"
  },
  "language_info": {
   "codemirror_mode": {
    "name": "ipython",
    "version": 3
   },
   "file_extension": ".py",
   "mimetype": "text/x-python",
   "name": "python",
   "nbconvert_exporter": "python",
   "pygments_lexer": "ipython3",
   "version": "3.8.10"
  }
 },
 "nbformat": 4,
 "nbformat_minor": 5
}
