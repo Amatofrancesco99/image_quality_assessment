{
 "cells": [
  {
   "cell_type": "markdown",
   "id": "b2364d86-0133-4af4-b487-fa9df97a8d58",
   "metadata": {},
   "source": [
    "# Testing how user data will be stored, processed and made ready for the javascript code running on the client to generate graphs with"
   ]
  },
  {
   "cell_type": "code",
   "execution_count": 1,
   "id": "a5275468-4660-484c-8a08-530ac4b1eb66",
   "metadata": {},
   "outputs": [],
   "source": [
    "import pandas as pd\n",
    "import json\n",
    "from random import randint\n",
    "from time import time"
   ]
  },
  {
   "cell_type": "markdown",
   "id": "e05033d0-3922-4984-8589-2abd19f77cf3",
   "metadata": {},
   "source": [
    "## Database is loaded in memory when the server starts up\n"
   ]
  },
  {
   "cell_type": "code",
   "execution_count": 2,
   "id": "40877eae-4ba9-4f3d-8561-476c67c7f56c",
   "metadata": {},
   "outputs": [],
   "source": [
    "database = pd.DataFrame()"
   ]
  },
  {
   "cell_type": "markdown",
   "id": "4d873df9-e19b-44ab-bb98-11c63d4caf54",
   "metadata": {},
   "source": [
    "## Generating some random test data"
   ]
  },
  {
   "cell_type": "code",
   "execution_count": 3,
   "id": "c59def36-ff84-41ee-a466-81596bab4c2f",
   "metadata": {},
   "outputs": [],
   "source": [
    "def get_random_raw():\n",
    "    \"\"\"\n",
    "    This is similar to the format provided by the html-form object.\n",
    "    \"\"\"    \n",
    "    names = [f\"{str(i).rjust(2, '0')}_{impairment}\" for i in range(10) for impairment in range(3)]\n",
    "    raw_data = [(name, randint(1, 5)) for name in names]\n",
    "    # timestamp to identify user (since we're not gonna use emails)\n",
    "    raw_data.insert(0, (\"user\", int(time()*1000)))\n",
    "    return raw_data"
   ]
  },
  {
   "cell_type": "code",
   "execution_count": 4,
   "id": "7a43733d-93a5-42d7-9974-c42dc9153bc6",
   "metadata": {},
   "outputs": [
    {
     "data": {
      "text/plain": [
       "[('user', 1640689715435),\n",
       " ('00_0', 5),\n",
       " ('00_1', 2),\n",
       " ('00_2', 5),\n",
       " ('01_0', 2),\n",
       " ('01_1', 5),\n",
       " ('01_2', 3),\n",
       " ('02_0', 5),\n",
       " ('02_1', 4),\n",
       " ('02_2', 2),\n",
       " ('03_0', 1),\n",
       " ('03_1', 3),\n",
       " ('03_2', 5),\n",
       " ('04_0', 4),\n",
       " ('04_1', 3),\n",
       " ('04_2', 5),\n",
       " ('05_0', 2),\n",
       " ('05_1', 4),\n",
       " ('05_2', 1),\n",
       " ('06_0', 4),\n",
       " ('06_1', 2),\n",
       " ('06_2', 1),\n",
       " ('07_0', 2),\n",
       " ('07_1', 3),\n",
       " ('07_2', 5),\n",
       " ('08_0', 1),\n",
       " ('08_1', 2),\n",
       " ('08_2', 1),\n",
       " ('09_0', 3),\n",
       " ('09_1', 2),\n",
       " ('09_2', 5)]"
      ]
     },
     "execution_count": 4,
     "metadata": {},
     "output_type": "execute_result"
    }
   ],
   "source": [
    "get_random_raw()"
   ]
  },
  {
   "cell_type": "code",
   "execution_count": 5,
   "id": "a0ed4fd3-82ae-4e67-8107-1d4667640b25",
   "metadata": {},
   "outputs": [],
   "source": [
    "def raw_data_to_record(raw_data):\n",
    "    \"\"\"\n",
    "    Convert raw data from the form to a record (row). \n",
    "    \"\"\"\n",
    "    new_record = pd.DataFrame(raw_data).T\n",
    "    new_record = new_record.rename(columns=new_record.iloc[0])[1:]\n",
    "    return new_record"
   ]
  },
  {
   "cell_type": "markdown",
   "id": "98d6146a-5bb5-4b58-bfc2-c55e46b02558",
   "metadata": {},
   "source": [
    "# This function will be called at each time a new user submits their form:\n"
   ]
  },
  {
   "cell_type": "code",
   "execution_count": 6,
   "id": "1e10dbba-f9e9-49d2-a32c-af0ab726b436",
   "metadata": {},
   "outputs": [],
   "source": [
    "def append_to_database(raw_data):\n",
    "    \"\"\"\n",
    "    Append raw data from a new user to the database\n",
    "    \"\"\"\n",
    "    global database\n",
    "    new_record = raw_data_to_record(raw_data)\n",
    "    database = database.append(new_record).reset_index(drop=True)"
   ]
  },
  {
   "cell_type": "markdown",
   "id": "20e918ff-92b1-4bd7-92d5-a91714e0c54a",
   "metadata": {},
   "source": [
    "## Call it n times to append new random data from n 'users'"
   ]
  },
  {
   "cell_type": "code",
   "execution_count": 19,
   "id": "5ed23e22-15ef-431d-b019-82f025714035",
   "metadata": {},
   "outputs": [],
   "source": [
    "append_to_database(get_random_raw())"
   ]
  },
  {
   "cell_type": "code",
   "execution_count": 20,
   "id": "710b94d1-a7b7-4d65-b157-555abc03df4c",
   "metadata": {},
   "outputs": [
    {
     "data": {
      "text/html": [
       "<div>\n",
       "<style scoped>\n",
       "    .dataframe tbody tr th:only-of-type {\n",
       "        vertical-align: middle;\n",
       "    }\n",
       "\n",
       "    .dataframe tbody tr th {\n",
       "        vertical-align: top;\n",
       "    }\n",
       "\n",
       "    .dataframe thead th {\n",
       "        text-align: right;\n",
       "    }\n",
       "</style>\n",
       "<table border=\"1\" class=\"dataframe\">\n",
       "  <thead>\n",
       "    <tr style=\"text-align: right;\">\n",
       "      <th></th>\n",
       "      <th>user</th>\n",
       "      <th>00_0</th>\n",
       "      <th>00_1</th>\n",
       "      <th>00_2</th>\n",
       "      <th>01_0</th>\n",
       "      <th>01_1</th>\n",
       "      <th>01_2</th>\n",
       "      <th>02_0</th>\n",
       "      <th>02_1</th>\n",
       "      <th>02_2</th>\n",
       "      <th>...</th>\n",
       "      <th>06_2</th>\n",
       "      <th>07_0</th>\n",
       "      <th>07_1</th>\n",
       "      <th>07_2</th>\n",
       "      <th>08_0</th>\n",
       "      <th>08_1</th>\n",
       "      <th>08_2</th>\n",
       "      <th>09_0</th>\n",
       "      <th>09_1</th>\n",
       "      <th>09_2</th>\n",
       "    </tr>\n",
       "  </thead>\n",
       "  <tbody>\n",
       "    <tr>\n",
       "      <th>0</th>\n",
       "      <td>1640689716092</td>\n",
       "      <td>2</td>\n",
       "      <td>4</td>\n",
       "      <td>4</td>\n",
       "      <td>2</td>\n",
       "      <td>5</td>\n",
       "      <td>1</td>\n",
       "      <td>5</td>\n",
       "      <td>2</td>\n",
       "      <td>4</td>\n",
       "      <td>...</td>\n",
       "      <td>1</td>\n",
       "      <td>1</td>\n",
       "      <td>4</td>\n",
       "      <td>2</td>\n",
       "      <td>1</td>\n",
       "      <td>1</td>\n",
       "      <td>2</td>\n",
       "      <td>1</td>\n",
       "      <td>2</td>\n",
       "      <td>5</td>\n",
       "    </tr>\n",
       "    <tr>\n",
       "      <th>1</th>\n",
       "      <td>1640689982845</td>\n",
       "      <td>5</td>\n",
       "      <td>4</td>\n",
       "      <td>1</td>\n",
       "      <td>1</td>\n",
       "      <td>3</td>\n",
       "      <td>2</td>\n",
       "      <td>5</td>\n",
       "      <td>2</td>\n",
       "      <td>1</td>\n",
       "      <td>...</td>\n",
       "      <td>1</td>\n",
       "      <td>1</td>\n",
       "      <td>3</td>\n",
       "      <td>1</td>\n",
       "      <td>1</td>\n",
       "      <td>5</td>\n",
       "      <td>5</td>\n",
       "      <td>2</td>\n",
       "      <td>2</td>\n",
       "      <td>2</td>\n",
       "    </tr>\n",
       "  </tbody>\n",
       "</table>\n",
       "<p>2 rows × 31 columns</p>\n",
       "</div>"
      ],
      "text/plain": [
       "            user 00_0 00_1 00_2 01_0 01_1 01_2 02_0 02_1 02_2  ... 06_2 07_0  \\\n",
       "0  1640689716092    2    4    4    2    5    1    5    2    4  ...    1    1   \n",
       "1  1640689982845    5    4    1    1    3    2    5    2    1  ...    1    1   \n",
       "\n",
       "  07_1 07_2 08_0 08_1 08_2 09_0 09_1 09_2  \n",
       "0    4    2    1    1    2    1    2    5  \n",
       "1    3    1    1    5    5    2    2    2  \n",
       "\n",
       "[2 rows x 31 columns]"
      ]
     },
     "execution_count": 20,
     "metadata": {},
     "output_type": "execute_result"
    }
   ],
   "source": [
    "database"
   ]
  },
  {
   "cell_type": "markdown",
   "id": "5d5f041d-b717-4097-8421-50237e6b8851",
   "metadata": {},
   "source": [
    "## Calculating mos and mos-stddev values"
   ]
  },
  {
   "cell_type": "code",
   "execution_count": 21,
   "id": "a80819b2-426e-496b-a657-192289310fbf",
   "metadata": {},
   "outputs": [],
   "source": [
    "class ImageTypes:\n",
    "    ORIGINAL = \"_0\"\n",
    "    SLIGHTLY_IMPAIRED = \"_1\"\n",
    "    HEAVILY_IMPAIRED = \"_2\""
   ]
  },
  {
   "cell_type": "code",
   "execution_count": 22,
   "id": "078d7681-0459-47a8-8857-393bd747e768",
   "metadata": {},
   "outputs": [],
   "source": [
    "def get_names():\n",
    "    return [col[:2] for col in database.columns if ImageTypes.ORIGINAL in col]"
   ]
  },
  {
   "cell_type": "code",
   "execution_count": 23,
   "id": "7549c593-67f9-4a35-bfd3-dd5103d42ee5",
   "metadata": {},
   "outputs": [],
   "source": [
    "def get_mos(img_type):\n",
    "    cols = [col for col in database.columns if img_type in col]\n",
    "    return database[cols].mean(axis=0).to_list()"
   ]
  },
  {
   "cell_type": "code",
   "execution_count": 24,
   "id": "8787dcb4-4cee-438c-88c6-c8d7b8972811",
   "metadata": {},
   "outputs": [],
   "source": [
    "def get_mos_stddev(img_type):\n",
    "    cols = [col for col in database.columns if img_type in col]\n",
    "    return database[cols].std(axis=0).to_list()"
   ]
  },
  {
   "cell_type": "markdown",
   "id": "73126b2d-0c1a-44cd-b6ec-6a0450624fcd",
   "metadata": {},
   "source": [
    "### Eg: mos of original images:"
   ]
  },
  {
   "cell_type": "code",
   "execution_count": 25,
   "id": "4fd98077-984b-4cb1-acee-cbd3e6e5473d",
   "metadata": {},
   "outputs": [
    {
     "data": {
      "text/plain": [
       "[3.5, 1.5, 5.0, 2.5, 3.5, 4.5, 3.5, 1.0, 1.0, 1.5]"
      ]
     },
     "execution_count": 25,
     "metadata": {},
     "output_type": "execute_result"
    }
   ],
   "source": [
    "get_mos(ImageTypes.ORIGINAL)"
   ]
  },
  {
   "cell_type": "markdown",
   "id": "0462a0c3-7f71-49e7-94f9-a08e63188f1c",
   "metadata": {},
   "source": [
    "### Eg: stdev of mos of heavily impaired images"
   ]
  },
  {
   "cell_type": "code",
   "execution_count": 26,
   "id": "5b9ba091-d1c5-446d-907c-85c6c1f99a6f",
   "metadata": {},
   "outputs": [
    {
     "data": {
      "text/plain": [
       "[2.1213203435596424,\n",
       " 0.7071067811865476,\n",
       " 2.1213203435596424,\n",
       " 0.0,\n",
       " 0.0,\n",
       " 0.0,\n",
       " 0.0,\n",
       " 0.7071067811865476,\n",
       " 2.1213203435596424,\n",
       " 2.1213203435596424]"
      ]
     },
     "execution_count": 26,
     "metadata": {},
     "output_type": "execute_result"
    }
   ],
   "source": [
    "get_mos_stddev(ImageTypes.HEAVILY_IMPAIRED)"
   ]
  },
  {
   "cell_type": "markdown",
   "id": "0fcd690b-c629-4d7e-973e-0096c2faab99",
   "metadata": {},
   "source": [
    "# Api call functions:"
   ]
  },
  {
   "cell_type": "code",
   "execution_count": 27,
   "id": "67b2c5a1-9dc0-4d29-9f06-7a71e1101f31",
   "metadata": {},
   "outputs": [],
   "source": [
    "def stats_getters_generator(stat_f):\n",
    "    def getter():\n",
    "        result = {}\n",
    "        result[\"names\"] = get_names()\n",
    "        result[\"original-image-mos\"] = stat_f(ImageTypes.ORIGINAL)\n",
    "        result[\"slightly-impaired-image-mos\"] = stat_f(ImageTypes.SLIGHTLY_IMPAIRED)\n",
    "        result[\"heavily-impaired-image-mos\"] = stat_f(ImageTypes.HEAVILY_IMPAIRED)\n",
    "        return json.dumps(result)\n",
    "    return getter"
   ]
  },
  {
   "cell_type": "code",
   "execution_count": 28,
   "id": "fe3a440a-49dc-431e-b5fb-25f3c86c4c9f",
   "metadata": {},
   "outputs": [],
   "source": [
    "get_mos_json = stats_getters_generator(get_mos)\n",
    "get_mos_stddev_json = stats_getters_generator(get_mos_stddev)"
   ]
  },
  {
   "cell_type": "code",
   "execution_count": 29,
   "id": "0a6b2645-1434-4eab-bea9-7c49687bf529",
   "metadata": {},
   "outputs": [
    {
     "data": {
      "text/plain": [
       "'{\"names\": [\"00\", \"01\", \"02\", \"03\", \"04\", \"05\", \"06\", \"07\", \"08\", \"09\"], \"original-image-mos\": [3.5, 1.5, 5.0, 2.5, 3.5, 4.5, 3.5, 1.0, 1.0, 1.5], \"slightly-impaired-image-mos\": [4.0, 4.0, 2.0, 2.5, 3.5, 2.5, 4.5, 3.5, 3.0, 2.0], \"heavily-impaired-image-mos\": [2.5, 1.5, 2.5, 5.0, 2.0, 4.0, 1.0, 1.5, 3.5, 3.5]}'"
      ]
     },
     "execution_count": 29,
     "metadata": {},
     "output_type": "execute_result"
    }
   ],
   "source": [
    "get_mos_json()"
   ]
  },
  {
   "cell_type": "code",
   "execution_count": 30,
   "id": "d426cb6e-7f9c-4232-b290-21d417b6a24b",
   "metadata": {},
   "outputs": [
    {
     "data": {
      "text/plain": [
       "'{\"names\": [\"00\", \"01\", \"02\", \"03\", \"04\", \"05\", \"06\", \"07\", \"08\", \"09\"], \"original-image-mos\": [2.1213203435596424, 0.7071067811865476, 0.0, 0.7071067811865476, 0.7071067811865476, 0.7071067811865476, 2.1213203435596424, 0.0, 0.0, 0.7071067811865476], \"slightly-impaired-image-mos\": [0.0, 1.4142135623730951, 0.0, 2.1213203435596424, 2.1213203435596424, 2.1213203435596424, 0.7071067811865476, 0.7071067811865476, 2.8284271247461903, 0.0], \"heavily-impaired-image-mos\": [2.1213203435596424, 0.7071067811865476, 2.1213203435596424, 0.0, 0.0, 0.0, 0.0, 0.7071067811865476, 2.1213203435596424, 2.1213203435596424]}'"
      ]
     },
     "execution_count": 30,
     "metadata": {},
     "output_type": "execute_result"
    }
   ],
   "source": [
    "get_mos_stddev_json()"
   ]
  }
 ],
 "metadata": {
  "kernelspec": {
   "display_name": "Python 3 (ipykernel)",
   "language": "python",
   "name": "python3"
  },
  "language_info": {
   "codemirror_mode": {
    "name": "ipython",
    "version": 3
   },
   "file_extension": ".py",
   "mimetype": "text/x-python",
   "name": "python",
   "nbconvert_exporter": "python",
   "pygments_lexer": "ipython3",
   "version": "3.9.7"
  }
 },
 "nbformat": 4,
 "nbformat_minor": 5
}
